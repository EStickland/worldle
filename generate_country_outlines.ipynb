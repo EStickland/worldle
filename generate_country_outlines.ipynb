{
 "cells": [
  {
   "cell_type": "code",
   "execution_count": null,
   "id": "focal-acrylic",
   "metadata": {},
   "outputs": [],
   "source": [
    "import geopandas as gpd\n",
    "import numpy as np\n",
    "import matplotlib.pyplot as plt"
   ]
  },
  {
   "cell_type": "code",
   "execution_count": null,
   "id": "fixed-highway",
   "metadata": {},
   "outputs": [],
   "source": [
    "countries_list = world['name'].tolist()\n",
    "for country in countries_list:\n",
    "    f = plt.figure()\n",
    "    f.set_figwidth(1000)\n",
    "    f.set_figheight(1000)\n",
    "\n",
    "    world = gpd.read_file(\"https://raw.githubusercontent.com/python-visualization/folium/master/examples/data/world-countries.json\")\n",
    "    country_query = world.query(f'name == \"{country}\"')\n",
    "\n",
    "    country_query.plot(color='green')\n",
    "    plt.axis('off')\n",
    "\n",
    "    plt.savefig(f\"countries/{country}.png\", bbox_inches='tight', dpi=1200)"
   ]
  }
 ],
 "metadata": {
  "kernelspec": {
   "display_name": "Python 3",
   "language": "python",
   "name": "python3"
  },
  "language_info": {
   "codemirror_mode": {
    "name": "ipython",
    "version": 3
   },
   "file_extension": ".py",
   "mimetype": "text/x-python",
   "name": "python",
   "nbconvert_exporter": "python",
   "pygments_lexer": "ipython3",
   "version": "3.7.7"
  }
 },
 "nbformat": 4,
 "nbformat_minor": 5
}
